{
 "cells": [
  {
   "cell_type": "code",
   "execution_count": 14,
   "metadata": {},
   "outputs": [],
   "source": [
    "import polars as pl\n",
    "import json"
   ]
  },
  {
   "cell_type": "code",
   "execution_count": 39,
   "metadata": {},
   "outputs": [
    {
     "data": {
      "text/html": [
       "<div><style>\n",
       ".dataframe > thead > tr > th,\n",
       ".dataframe > tbody > tr > td {\n",
       "  text-align: right;\n",
       "}\n",
       "</style>\n",
       "<small>shape: (80, 10)</small><table border=\"1\" class=\"dataframe\"><thead><tr><th>Block Number</th><th>Block Timestamp</th><th>Transaction Hash</th><th>Transaction Data</th><th>Contract Address</th><th>Sender</th><th>Value</th><th>Input</th><th>Gas Limit</th><th>Gas Price</th></tr><tr><td>i64</td><td>i64</td><td>str</td><td>str</td><td>str</td><td>str</td><td>i64</td><td>str</td><td>i64</td><td>i64</td></tr></thead><tbody><tr><td>17497810</td><td>1686984107</td><td>&quot;0xa1a57767a5a1…</td><td>&quot;{&quot;accessList&quot;:…</td><td>&quot;0x524C08Be48E0…</td><td>&quot;0x5B33ea8B7836…</td><td>15000000000000000</td><td>&quot;0x84bb1e420000…</td><td>134513</td><td>16479508620</td></tr><tr><td>17497810</td><td>1686984107</td><td>&quot;0x994bc0647d35…</td><td>&quot;{&quot;accessList&quot;:…</td><td>&quot;0x4005fe4Eb311…</td><td>&quot;0xdbf8fb17Ce8b…</td><td>0</td><td>&quot;0x4a21a2df0000…</td><td>149750</td><td>16479508620</td></tr><tr><td>17497810</td><td>1686984107</td><td>&quot;0x24c4405431e3…</td><td>&quot;{&quot;accessList&quot;:…</td><td>&quot;0x4005fe4Eb311…</td><td>&quot;0x6FD23dF9DfEd…</td><td>408848000000000000</td><td>&quot;0x4a21a2df0000…</td><td>133197</td><td>16479508620</td></tr><tr><td>17497810</td><td>1686984107</td><td>&quot;0xa30a79d534e5…</td><td>&quot;{&quot;accessList&quot;:…</td><td>&quot;0x4005fe4Eb311…</td><td>&quot;0xa6E92699c715…</td><td>1022120000000000000</td><td>&quot;0x4a21a2df0000…</td><td>180024</td><td>16479508620</td></tr><tr><td>17497810</td><td>1686984107</td><td>&quot;0xa4de67b48a5a…</td><td>&quot;{&quot;accessList&quot;:…</td><td>&quot;0x961a1B123689…</td><td>&quot;0xe9f5B65dCCF8…</td><td>69000000000000000</td><td>&quot;0xa0712d680000…</td><td>126864</td><td>16479508620</td></tr><tr><td>17497811</td><td>1686984119</td><td>&quot;0xd55944159f5c…</td><td>&quot;{&quot;accessList&quot;:…</td><td>&quot;0x4005fe4Eb311…</td><td>&quot;0xf5e845830137…</td><td>327078400000000000</td><td>&quot;0x4a21a2df0000…</td><td>111898</td><td>15569206782</td></tr><tr><td>17497811</td><td>1686984119</td><td>&quot;0x3326d241c9bf…</td><td>&quot;{&quot;blockHash&quot;: …</td><td>&quot;0x4005fe4Eb311…</td><td>&quot;0xB2Aadf6BFc0a…</td><td>408848000000000000</td><td>&quot;0x4a21a2df0000…</td><td>150568</td><td>18405271077</td></tr><tr><td>17497811</td><td>1686984119</td><td>&quot;0x7966f2371e71…</td><td>&quot;{&quot;blockHash&quot;: …</td><td>&quot;0x306b1ea3ecdf…</td><td>&quot;0x2244deba8c0E…</td><td>0</td><td>&quot;0xa22cb4650000…</td><td>46205</td><td>17850000000</td></tr><tr><td>17497811</td><td>1686984119</td><td>&quot;0x341fc09158bc…</td><td>&quot;{&quot;accessList&quot;:…</td><td>&quot;0x932261f9Fc8D…</td><td>&quot;0x41AF363578d3…</td><td>0</td><td>&quot;0x1249c58b0021…</td><td>58571</td><td>15569206782</td></tr><tr><td>17497811</td><td>1686984119</td><td>&quot;0x8bd0660ce5bc…</td><td>&quot;{&quot;accessList&quot;:…</td><td>&quot;0x4005fe4Eb311…</td><td>&quot;0x047fa264aA19…</td><td>44440000000000000</td><td>&quot;0x4a21a2df0000…</td><td>135149</td><td>15569206782</td></tr><tr><td>17497811</td><td>1686984119</td><td>&quot;0xfcdfa09e2610…</td><td>&quot;{&quot;accessList&quot;:…</td><td>&quot;0x4005fe4Eb311…</td><td>&quot;0x34D7FE6eA3E8…</td><td>44440000000000000</td><td>&quot;0x4a21a2df0000…</td><td>135149</td><td>15569206782</td></tr><tr><td>17497811</td><td>1686984119</td><td>&quot;0xe4efc148fecc…</td><td>&quot;{&quot;accessList&quot;:…</td><td>&quot;0x4005fe4Eb311…</td><td>&quot;0x6e866c11083c…</td><td>0</td><td>&quot;0x4a21a2df0000…</td><td>149750</td><td>15569206782</td></tr><tr><td>&hellip;</td><td>&hellip;</td><td>&hellip;</td><td>&hellip;</td><td>&hellip;</td><td>&hellip;</td><td>&hellip;</td><td>&hellip;</td><td>&hellip;</td><td>&hellip;</td></tr><tr><td>17497819</td><td>1686984215</td><td>&quot;0x582ab5bc47ea…</td><td>&quot;{&quot;accessList&quot;:…</td><td>&quot;0x4005fe4Eb311…</td><td>&quot;0xd53D6f81b9bf…</td><td>44440000000000000</td><td>&quot;0x4a21a2df0000…</td><td>135149</td><td>15810120203</td></tr><tr><td>17497819</td><td>1686984215</td><td>&quot;0x0cc8e826c7f1…</td><td>&quot;{&quot;accessList&quot;:…</td><td>&quot;0xA15dc0047d41…</td><td>&quot;0x3308E15222B8…</td><td>0</td><td>&quot;0xd503a8130000…</td><td>119673</td><td>15810120203</td></tr><tr><td>17497819</td><td>1686984215</td><td>&quot;0xbbbced1b3890…</td><td>&quot;{&quot;accessList&quot;:…</td><td>&quot;0xC36442b4a452…</td><td>&quot;0xB435331eAC9A…</td><td>0</td><td>&quot;0xac9650d80000…</td><td>366094</td><td>15810120203</td></tr><tr><td>17497819</td><td>1686984215</td><td>&quot;0xd2a63f3ebc0d…</td><td>&quot;{&quot;accessList&quot;:…</td><td>&quot;0x4005fe4Eb311…</td><td>&quot;0x53DD88b3bFd5…</td><td>44440000000000000</td><td>&quot;0x4a21a2df0000…</td><td>135149</td><td>15810120203</td></tr><tr><td>17497819</td><td>1686984215</td><td>&quot;0x2679662a4465…</td><td>&quot;{&quot;accessList&quot;:…</td><td>&quot;0xDb042927c367…</td><td>&quot;0x8dDd5A9d9b52…</td><td>0</td><td>&quot;0xa22cb4650000…</td><td>46062</td><td>15810120203</td></tr><tr><td>17497820</td><td>1686984227</td><td>&quot;0x34e0a3319533…</td><td>&quot;{&quot;blockHash&quot;: …</td><td>&quot;0xC16C5f1fc9fc…</td><td>&quot;0x05F37f36C3c5…</td><td>0</td><td>&quot;0xe02f8e1f0000…</td><td>44212</td><td>25000000000</td></tr><tr><td>17497820</td><td>1686984227</td><td>&quot;0xc78a43480999…</td><td>&quot;{&quot;accessList&quot;:…</td><td>&quot;0x4005fe4Eb311…</td><td>&quot;0x2dfEC29Ceaa5…</td><td>44440000000000000</td><td>&quot;0x4a21a2df0000…</td><td>135149</td><td>15552479076</td></tr><tr><td>17497820</td><td>1686984227</td><td>&quot;0x0fe949253b32…</td><td>&quot;{&quot;accessList&quot;:…</td><td>&quot;0x4b5c5141562F…</td><td>&quot;0xeAF089632e54…</td><td>6900000000000000</td><td>&quot;0x0d1d7ae50000…</td><td>106731</td><td>15552479076</td></tr><tr><td>17497820</td><td>1686984227</td><td>&quot;0xe0fb5c2ca9e8…</td><td>&quot;{&quot;accessList&quot;:…</td><td>&quot;0x4005fe4Eb311…</td><td>&quot;0x151aEd9465b0…</td><td>213312000000000000</td><td>&quot;0x4a21a2df0000…</td><td>143334</td><td>15552479076</td></tr><tr><td>17497820</td><td>1686984227</td><td>&quot;0x64a0910480f3…</td><td>&quot;{&quot;accessList&quot;:…</td><td>&quot;0x000000000066…</td><td>&quot;0x49c93e748534…</td><td>0</td><td>&quot;0xb510391f0000…</td><td>120789</td><td>15552479076</td></tr><tr><td>17497820</td><td>1686984227</td><td>&quot;0x89ccdbba9ae7…</td><td>&quot;{&quot;accessList&quot;:…</td><td>&quot;0x4005fe4Eb311…</td><td>&quot;0x62cB05fC7454…</td><td>0</td><td>&quot;0xa22cb4650000…</td><td>51462</td><td>15552479076</td></tr><tr><td>17497820</td><td>1686984227</td><td>&quot;0x88e91c3d3764…</td><td>&quot;{&quot;accessList&quot;:…</td><td>&quot;0x0ffCE51b969c…</td><td>&quot;0x6174C70959DF…</td><td>0</td><td>&quot;0xa0712d680000…</td><td>89290</td><td>15552479076</td></tr></tbody></table></div>"
      ],
      "text/plain": [
       "shape: (80, 10)\n",
       "┌────────────┬────────────┬────────────┬────────────┬───┬───────────┬──────────┬─────────┬─────────┐\n",
       "│ Block      ┆ Block      ┆ Transactio ┆ Transactio ┆ … ┆ Value     ┆ Input    ┆ Gas     ┆ Gas     │\n",
       "│ Number     ┆ Timestamp  ┆ n Hash     ┆ n Data     ┆   ┆ ---       ┆ ---      ┆ Limit   ┆ Price   │\n",
       "│ ---        ┆ ---        ┆ ---        ┆ ---        ┆   ┆ i64       ┆ str      ┆ ---     ┆ ---     │\n",
       "│ i64        ┆ i64        ┆ str        ┆ str        ┆   ┆           ┆          ┆ i64     ┆ i64     │\n",
       "╞════════════╪════════════╪════════════╪════════════╪═══╪═══════════╪══════════╪═════════╪═════════╡\n",
       "│ 17497810   ┆ 1686984107 ┆ 0xa1a57767 ┆ {\"accessLi ┆ … ┆ 150000000 ┆ 0x84bb1e ┆ 134513  ┆ 1647950 │\n",
       "│            ┆            ┆ a5a14bb979 ┆ st\": [],   ┆   ┆ 00000000  ┆ 42000000 ┆         ┆ 8620    │\n",
       "│            ┆            ┆ 25de695a20 ┆ \"blockHash ┆   ┆           ┆ 00000000 ┆         ┆         │\n",
       "│            ┆            ┆ cb…        ┆ \": …       ┆   ┆           ┆ 00000000 ┆         ┆         │\n",
       "│            ┆            ┆            ┆            ┆   ┆           ┆ …        ┆         ┆         │\n",
       "│ 17497810   ┆ 1686984107 ┆ 0x994bc064 ┆ {\"accessLi ┆ … ┆ 0         ┆ 0x4a21a2 ┆ 149750  ┆ 1647950 │\n",
       "│            ┆            ┆ 7d356c6324 ┆ st\": [],   ┆   ┆           ┆ df000000 ┆         ┆ 8620    │\n",
       "│            ┆            ┆ e8fb7c0cdd ┆ \"blockHash ┆   ┆           ┆ 00000000 ┆         ┆         │\n",
       "│            ┆            ┆ 21…        ┆ \": …       ┆   ┆           ┆ 00000000 ┆         ┆         │\n",
       "│            ┆            ┆            ┆            ┆   ┆           ┆ …        ┆         ┆         │\n",
       "│ 17497810   ┆ 1686984107 ┆ 0x24c44054 ┆ {\"accessLi ┆ … ┆ 408848000 ┆ 0x4a21a2 ┆ 133197  ┆ 1647950 │\n",
       "│            ┆            ┆ 31e3414e38 ┆ st\": [],   ┆   ┆ 000000000 ┆ df000000 ┆         ┆ 8620    │\n",
       "│            ┆            ┆ 24152ad4a7 ┆ \"blockHash ┆   ┆           ┆ 00000000 ┆         ┆         │\n",
       "│            ┆            ┆ 4b…        ┆ \": …       ┆   ┆           ┆ 00000000 ┆         ┆         │\n",
       "│            ┆            ┆            ┆            ┆   ┆           ┆ …        ┆         ┆         │\n",
       "│ 17497810   ┆ 1686984107 ┆ 0xa30a79d5 ┆ {\"accessLi ┆ … ┆ 102212000 ┆ 0x4a21a2 ┆ 180024  ┆ 1647950 │\n",
       "│            ┆            ┆ 34e5fefdf3 ┆ st\": [],   ┆   ┆ 000000000 ┆ df000000 ┆         ┆ 8620    │\n",
       "│            ┆            ┆ 09f5a970b1 ┆ \"blockHash ┆   ┆ 0         ┆ 00000000 ┆         ┆         │\n",
       "│            ┆            ┆ 61…        ┆ \": …       ┆   ┆           ┆ 00000000 ┆         ┆         │\n",
       "│            ┆            ┆            ┆            ┆   ┆           ┆ …        ┆         ┆         │\n",
       "│ …          ┆ …          ┆ …          ┆ …          ┆ … ┆ …         ┆ …        ┆ …       ┆ …       │\n",
       "│ 17497820   ┆ 1686984227 ┆ 0xe0fb5c2c ┆ {\"accessLi ┆ … ┆ 213312000 ┆ 0x4a21a2 ┆ 143334  ┆ 1555247 │\n",
       "│            ┆            ┆ a9e894a451 ┆ st\": [],   ┆   ┆ 000000000 ┆ df000000 ┆         ┆ 9076    │\n",
       "│            ┆            ┆ da1046fba8 ┆ \"blockHash ┆   ┆           ┆ 00000000 ┆         ┆         │\n",
       "│            ┆            ┆ b5…        ┆ \": …       ┆   ┆           ┆ 00000000 ┆         ┆         │\n",
       "│            ┆            ┆            ┆            ┆   ┆           ┆ …        ┆         ┆         │\n",
       "│ 17497820   ┆ 1686984227 ┆ 0x64a09104 ┆ {\"accessLi ┆ … ┆ 0         ┆ 0xb51039 ┆ 120789  ┆ 1555247 │\n",
       "│            ┆            ┆ 80f3dddfbc ┆ st\": [],   ┆   ┆           ┆ 1f000000 ┆         ┆ 9076    │\n",
       "│            ┆            ┆ deb17d1527 ┆ \"blockHash ┆   ┆           ┆ 00000000 ┆         ┆         │\n",
       "│            ┆            ┆ 94…        ┆ \": …       ┆   ┆           ┆ 00000000 ┆         ┆         │\n",
       "│            ┆            ┆            ┆            ┆   ┆           ┆ …        ┆         ┆         │\n",
       "│ 17497820   ┆ 1686984227 ┆ 0x89ccdbba ┆ {\"accessLi ┆ … ┆ 0         ┆ 0xa22cb4 ┆ 51462   ┆ 1555247 │\n",
       "│            ┆            ┆ 9ae7e7f0aa ┆ st\": [],   ┆   ┆           ┆ 65000000 ┆         ┆ 9076    │\n",
       "│            ┆            ┆ 00eab880e2 ┆ \"blockHash ┆   ┆           ┆ 00000000 ┆         ┆         │\n",
       "│            ┆            ┆ 68…        ┆ \": …       ┆   ┆           ┆ 00000000 ┆         ┆         │\n",
       "│            ┆            ┆            ┆            ┆   ┆           ┆ …        ┆         ┆         │\n",
       "│ 17497820   ┆ 1686984227 ┆ 0x88e91c3d ┆ {\"accessLi ┆ … ┆ 0         ┆ 0xa0712d ┆ 89290   ┆ 1555247 │\n",
       "│            ┆            ┆ 3764169a11 ┆ st\": [],   ┆   ┆           ┆ 68000000 ┆         ┆ 9076    │\n",
       "│            ┆            ┆ 5809731d05 ┆ \"blockHash ┆   ┆           ┆ 00000000 ┆         ┆         │\n",
       "│            ┆            ┆ fa…        ┆ \": …       ┆   ┆           ┆ 00000000 ┆         ┆         │\n",
       "│            ┆            ┆            ┆            ┆   ┆           ┆ …        ┆         ┆         │\n",
       "└────────────┴────────────┴────────────┴────────────┴───┴───────────┴──────────┴─────────┴─────────┘"
      ]
     },
     "execution_count": 39,
     "metadata": {},
     "output_type": "execute_result"
    }
   ],
   "source": [
    "transactions_df = pl.read_parquet('../data/raw/transactions.parquet')\n",
    "transactions_df = transactions_df.with_columns(pl.col(\"Transaction Data\").apply(lambda x: json.loads(x)['to']).alias(\"Contract Address\"))\n",
    "transactions_df = transactions_df.with_columns(pl.col(\"Transaction Data\").apply(lambda x: json.loads(x)['from']).alias(\"Sender\"))\n",
    "transactions_df = transactions_df.with_columns(pl.col(\"Transaction Data\").apply(lambda x: json.loads(x)['value']).alias(\"Value\"))\n",
    "transactions_df = transactions_df.with_columns(pl.col(\"Transaction Data\").apply(lambda x: json.loads(x)['input']).alias(\"Input\"))\n",
    "transactions_df = transactions_df.with_columns(pl.col(\"Transaction Data\").apply(lambda x: json.loads(x)['gas']).alias(\"Gas Limit\"))\n",
    "transactions_df = transactions_df.with_columns(pl.col(\"Transaction Data\").apply(lambda x: json.loads(x)['gasPrice']).alias(\"Gas Price\"))\n",
    "transactions_df"
   ]
  },
  {
   "cell_type": "code",
   "execution_count": 36,
   "metadata": {},
   "outputs": [
    {
     "data": {
      "text/html": [
       "<div><style>\n",
       ".dataframe > thead > tr > th,\n",
       ".dataframe > tbody > tr > td {\n",
       "  text-align: right;\n",
       "}\n",
       "</style>\n",
       "<small>shape: (80, 2)</small><table border=\"1\" class=\"dataframe\"><thead><tr><th>Address</th><th>ABI</th></tr><tr><td>str</td><td>str</td></tr></thead><tbody><tr><td>&quot;0x524C08Be48E0…</td><td>&quot;[{&quot;inputs&quot;: [{…</td></tr><tr><td>&quot;0x4005fe4Eb311…</td><td>&quot;[{&quot;inputs&quot;: []…</td></tr><tr><td>&quot;0x4005fe4Eb311…</td><td>&quot;[{&quot;inputs&quot;: []…</td></tr><tr><td>&quot;0x4005fe4Eb311…</td><td>&quot;[{&quot;inputs&quot;: []…</td></tr><tr><td>&quot;0x961a1B123689…</td><td>&quot;[{&quot;inputs&quot;: [{…</td></tr><tr><td>&quot;0x4005fe4Eb311…</td><td>&quot;[{&quot;inputs&quot;: []…</td></tr><tr><td>&quot;0x4005fe4Eb311…</td><td>&quot;[{&quot;inputs&quot;: []…</td></tr><tr><td>&quot;0x306b1ea3ecdf…</td><td>&quot;[{&quot;inputs&quot;: [{…</td></tr><tr><td>&quot;0x932261f9Fc8D…</td><td>&quot;[{&quot;inputs&quot;: []…</td></tr><tr><td>&quot;0x4005fe4Eb311…</td><td>&quot;[{&quot;inputs&quot;: []…</td></tr><tr><td>&quot;0x4005fe4Eb311…</td><td>&quot;[{&quot;inputs&quot;: []…</td></tr><tr><td>&quot;0x4005fe4Eb311…</td><td>&quot;[{&quot;inputs&quot;: []…</td></tr><tr><td>&hellip;</td><td>&hellip;</td></tr><tr><td>&quot;0x4005fe4Eb311…</td><td>&quot;[{&quot;inputs&quot;: []…</td></tr><tr><td>&quot;0xA15dc0047d41…</td><td>&quot;[{&quot;inputs&quot;: []…</td></tr><tr><td>&quot;0xC36442b4a452…</td><td>&quot;[{&quot;inputs&quot;: [{…</td></tr><tr><td>&quot;0x4005fe4Eb311…</td><td>&quot;[{&quot;inputs&quot;: []…</td></tr><tr><td>&quot;0xDb042927c367…</td><td>&quot;[{&quot;inputs&quot;: [{…</td></tr><tr><td>&quot;0xC16C5f1fc9fc…</td><td>&quot;[{&quot;inputs&quot;: []…</td></tr><tr><td>&quot;0x4005fe4Eb311…</td><td>&quot;[{&quot;inputs&quot;: []…</td></tr><tr><td>&quot;0x4b5c5141562F…</td><td>&quot;[{&quot;inputs&quot;: []…</td></tr><tr><td>&quot;0x4005fe4Eb311…</td><td>&quot;[{&quot;inputs&quot;: []…</td></tr><tr><td>&quot;0x000000000066…</td><td>&quot;[{&quot;inputs&quot;: []…</td></tr><tr><td>&quot;0x4005fe4Eb311…</td><td>&quot;[{&quot;inputs&quot;: []…</td></tr><tr><td>&quot;0x0ffCE51b969c…</td><td>&quot;[{&quot;inputs&quot;: [{…</td></tr></tbody></table></div>"
      ],
      "text/plain": [
       "shape: (80, 2)\n",
       "┌───────────────────────────────────┬───────────────────────────────────┐\n",
       "│ Address                           ┆ ABI                               │\n",
       "│ ---                               ┆ ---                               │\n",
       "│ str                               ┆ str                               │\n",
       "╞═══════════════════════════════════╪═══════════════════════════════════╡\n",
       "│ 0x524C08Be48E0B414c452Da3D142c07… ┆ [{\"inputs\": [{\"internalType\": \"s… │\n",
       "│ 0x4005fe4Eb311d0edf221fc9935d886… ┆ [{\"inputs\": [], \"name\": \"Approva… │\n",
       "│ 0x4005fe4Eb311d0edf221fc9935d886… ┆ [{\"inputs\": [], \"name\": \"Approva… │\n",
       "│ 0x4005fe4Eb311d0edf221fc9935d886… ┆ [{\"inputs\": [], \"name\": \"Approva… │\n",
       "│ …                                 ┆ …                                 │\n",
       "│ 0x4005fe4Eb311d0edf221fc9935d886… ┆ [{\"inputs\": [], \"name\": \"Approva… │\n",
       "│ 0x0000000000664ceffed39244a8312b… ┆ [{\"inputs\": [], \"stateMutability… │\n",
       "│ 0x4005fe4Eb311d0edf221fc9935d886… ┆ [{\"inputs\": [], \"name\": \"Approva… │\n",
       "│ 0x0ffCE51b969c4aAb7Ce078bA712738… ┆ [{\"inputs\": [{\"internalType\": \"s… │\n",
       "└───────────────────────────────────┴───────────────────────────────────┘"
      ]
     },
     "execution_count": 36,
     "metadata": {},
     "output_type": "execute_result"
    }
   ],
   "source": [
    "contracts_df = pl.read_parquet('../data/raw/contracts.parquet')\n",
    "contracts_df"
   ]
  },
  {
   "cell_type": "code",
   "execution_count": 12,
   "metadata": {},
   "outputs": [
    {
     "data": {
      "text/html": [
       "<div><style>\n",
       ".dataframe > thead > tr > th,\n",
       ".dataframe > tbody > tr > td {\n",
       "  text-align: right;\n",
       "}\n",
       "</style>\n",
       "<small>shape: (11, 1)</small><table border=\"1\" class=\"dataframe\"><thead><tr><th>Block Number</th></tr><tr><td>i64</td></tr></thead><tbody><tr><td>17497810</td></tr><tr><td>17497811</td></tr><tr><td>17497812</td></tr><tr><td>17497813</td></tr><tr><td>17497814</td></tr><tr><td>17497815</td></tr><tr><td>17497816</td></tr><tr><td>17497817</td></tr><tr><td>17497818</td></tr><tr><td>17497819</td></tr><tr><td>17497820</td></tr></tbody></table></div>"
      ],
      "text/plain": [
       "shape: (11, 1)\n",
       "┌──────────────┐\n",
       "│ Block Number │\n",
       "│ ---          │\n",
       "│ i64          │\n",
       "╞══════════════╡\n",
       "│ 17497810     │\n",
       "│ 17497811     │\n",
       "│ 17497812     │\n",
       "│ 17497813     │\n",
       "│ …            │\n",
       "│ 17497817     │\n",
       "│ 17497818     │\n",
       "│ 17497819     │\n",
       "│ 17497820     │\n",
       "└──────────────┘"
      ]
     },
     "execution_count": 12,
     "metadata": {},
     "output_type": "execute_result"
    }
   ],
   "source": [
    "df = pl.read_parquet('../data/raw/blocks_ingested.parquet')\n",
    "df"
   ]
  },
  {
   "cell_type": "code",
   "execution_count": 13,
   "metadata": {},
   "outputs": [
    {
     "data": {
      "text/html": [
       "<div><style>\n",
       ".dataframe > thead > tr > th,\n",
       ".dataframe > tbody > tr > td {\n",
       "  text-align: right;\n",
       "}\n",
       "</style>\n",
       "<small>shape: (626, 1)</small><table border=\"1\" class=\"dataframe\"><thead><tr><th>Address</th></tr><tr><td>str</td></tr></thead><tbody><tr><td>&quot;0x00000000A991…</td></tr><tr><td>&quot;0x1111111254EE…</td></tr><tr><td>&quot;0xA69babEF1cA6…</td></tr><tr><td>&quot;0x7a250d5630B4…</td></tr><tr><td>&quot;0x7e0905d9cA2d…</td></tr><tr><td>&quot;0x1fB421310cEA…</td></tr><tr><td>&quot;0x3fC91A3afd70…</td></tr><tr><td>&quot;0x5a54fe5234E8…</td></tr><tr><td>&quot;0x2a3DD3EB832a…</td></tr><tr><td>&quot;0xdAC17F958D2e…</td></tr><tr><td>&quot;0x3845badAde8e…</td></tr><tr><td>&quot;0xaE117d146b68…</td></tr><tr><td>&hellip;</td></tr><tr><td>&quot;0xaEeCbD33C260…</td></tr><tr><td>&quot;0xF875B4BD81b1…</td></tr><tr><td>&quot;0xdEC9CA623718…</td></tr><tr><td>&quot;0x0E45a4BA6ba9…</td></tr><tr><td>&quot;0xb15BC9fC3aA3…</td></tr><tr><td>&quot;0x6B175474E890…</td></tr><tr><td>&quot;0x09d1Ef92d37e…</td></tr><tr><td>&quot;0x0365f861f941…</td></tr><tr><td>&quot;0x9C4CF2d906B6…</td></tr><tr><td>&quot;0xE863d6a7cb90…</td></tr><tr><td>&quot;0x016606Acc6B0…</td></tr><tr><td>&quot;0xBa8Da9dcF11B…</td></tr></tbody></table></div>"
      ],
      "text/plain": [
       "shape: (626, 1)\n",
       "┌───────────────────────────────────┐\n",
       "│ Address                           │\n",
       "│ ---                               │\n",
       "│ str                               │\n",
       "╞═══════════════════════════════════╡\n",
       "│ 0x00000000A991C429eE2Ec6df19d40f… │\n",
       "│ 0x1111111254EEB25477B68fb85Ed929… │\n",
       "│ 0xA69babEF1cA67A37Ffaf7a485DfFF3… │\n",
       "│ 0x7a250d5630B4cF539739dF2C5dAcb4… │\n",
       "│ …                                 │\n",
       "│ 0x9C4CF2d906B63AB90ef7AfC83D4893… │\n",
       "│ 0xE863d6a7cb903B8509CaaA46785daC… │\n",
       "│ 0x016606Acc6B0cFE537acc221e3bf1b… │\n",
       "│ 0xBa8Da9dcF11B50B03fd5284f164Ef5… │\n",
       "└───────────────────────────────────┘"
      ]
     },
     "execution_count": 13,
     "metadata": {},
     "output_type": "execute_result"
    }
   ],
   "source": [
    "df = pl.read_parquet('../data/raw/ignore_address.parquet')\n",
    "df"
   ]
  },
  {
   "cell_type": "code",
   "execution_count": null,
   "metadata": {},
   "outputs": [],
   "source": []
  },
  {
   "cell_type": "code",
   "execution_count": null,
   "metadata": {},
   "outputs": [],
   "source": []
  }
 ],
 "metadata": {
  "kernelspec": {
   "display_name": "venv",
   "language": "python",
   "name": "python3"
  },
  "language_info": {
   "codemirror_mode": {
    "name": "ipython",
    "version": 3
   },
   "file_extension": ".py",
   "mimetype": "text/x-python",
   "name": "python",
   "nbconvert_exporter": "python",
   "pygments_lexer": "ipython3",
   "version": "3.10.9"
  },
  "orig_nbformat": 4
 },
 "nbformat": 4,
 "nbformat_minor": 2
}
